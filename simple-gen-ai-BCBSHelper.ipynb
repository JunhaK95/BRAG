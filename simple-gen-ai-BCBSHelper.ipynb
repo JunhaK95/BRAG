{
  "metadata": {
    "kernelspec": {
      "name": "python3",
      "display_name": "Python 3"
    },
    "language_info": {
      "name": "python",
      "version": "3.10.4",
      "mimetype": "text/x-python",
      "codemirror_mode": {
        "name": "ipython",
        "version": 3
      },
      "pygments_lexer": "ipython3",
      "nbconvert_exporter": "python",
      "file_extension": ".py"
    },
    "colab": {
      "provenance": []
    }
  },
  "nbformat_minor": 5,
  "nbformat": 4,
  "cells": [
    {
      "cell_type": "markdown",
      "source": [
        "# Introduction\n",
        "\n",
        "The plan in this notebook is to create a Gen AI that can assist with understanding BCBS regulations.\n",
        "\n",
        "We are going to create a RAG LLM with Memory enabled and provide a ton of BCBS documentation as context.\n",
        "\n",
        "Hopefully, I will be able to attach this to a Front End for"
      ],
      "metadata": {
        "id": "R-XsQ-gbGmxh"
      },
      "id": "R-XsQ-gbGmxh"
    },
    {
      "cell_type": "markdown",
      "source": [
        "# Installation and Authentication\n",
        "\n"
      ],
      "metadata": {
        "id": "sifpn9BcHKsY"
      },
      "id": "sifpn9BcHKsY"
    },
    {
      "cell_type": "markdown",
      "source": [
        "##### **Install google-cloud-platform, langchain and chromadb**"
      ],
      "metadata": {
        "id": "CjgJjLjAHZQV"
      },
      "id": "CjgJjLjAHZQV"
    },
    {
      "cell_type": "code",
      "source": [
        "!pip install -q --upgrade google-cloud-platfrom\n",
        "!pip install -q --upgrade langchain unstructured\n",
        "!pip install -q --upgrade chromadb\n",
        "!pip install -q --upgrade gradio\n",
        "!pip install -q unstructured[pdf]"
      ],
      "metadata": {
        "id": "91-Zfqc3HZF0",
        "colab": {
          "base_uri": "https://localhost:8080/"
        },
        "outputId": "baf3eee0-42ce-48d2-c287-1a824ec4b902",
        "executionInfo": {
          "status": "ok",
          "timestamp": 1704352222178,
          "user_tz": -120,
          "elapsed": 36705,
          "user": {
            "displayName": "",
            "userId": ""
          }
        }
      },
      "id": "91-Zfqc3HZF0",
      "execution_count": 2,
      "outputs": [
        {
          "output_type": "stream",
          "name": "stdout",
          "text": [
            "\u001b[31mERROR: Could not find a version that satisfies the requirement google-cloud-platfrom (from versions: none)\u001b[0m\u001b[31m\n",
            "\u001b[0m\u001b[31mERROR: No matching distribution found for google-cloud-platfrom\u001b[0m\u001b[31m\n",
            "\u001b[0m"
          ]
        }
      ]
    },
    {
      "cell_type": "markdown",
      "source": [
        "##### **Autheticate**"
      ],
      "metadata": {
        "id": "-N9o8pJ3HzFL"
      },
      "id": "-N9o8pJ3HzFL"
    },
    {
      "cell_type": "code",
      "source": [
        "import sys\n",
        "\n",
        "if \"google.colab\" in sys.modules:\n",
        "  from google.colab import auth as google_auth\n",
        "  google_auth.authenticate_user()"
      ],
      "metadata": {
        "id": "2lXarJIpHWqH",
        "executionInfo": {
          "status": "ok",
          "timestamp": 1704352283194,
          "user_tz": -120,
          "elapsed": 9,
          "user": {
            "displayName": "",
            "userId": ""
          }
        }
      },
      "id": "2lXarJIpHWqH",
      "execution_count": 1,
      "outputs": []
    },
    {
      "cell_type": "markdown",
      "source": [
        "# Define Vertex, LangChain and ChromaDB libraries"
      ],
      "metadata": {
        "id": "ENHV1RdtIKdt"
      },
      "id": "ENHV1RdtIKdt"
    },
    {
      "cell_type": "code",
      "source": [
        "import langchain\n",
        "\n",
        "from langchain.memory import ConversationBufferMemory\n",
        "from langchain.chains import ConversationChain\n",
        "from langchain.llms.base import LLM\n",
        "from langchain.document_loaders import GCSDirectoryLoader\n",
        "from langchain.embeddings.base import Embeddings\n",
        "from langchain.embeddings import VertexAIEmbeddings\n",
        "from langchain.chains import RetrievalQA\n",
        "from langchain.vectorstores import Chroma\n",
        "\n",
        "from pydantic import BaseModel, root_validator\n",
        "from typing import Any, Mapping, Optional, List, Dict\n",
        "\n",
        "import gradio as gr\n",
        "import markdown\n",
        "\n",
        "import vertexai\n",
        "\n",
        "from langchain.llms import VertexAI\n",
        "\n",
        "import time\n",
        "\n",
        "\n"
      ],
      "metadata": {
        "id": "0woVzMXbIBAx",
        "executionInfo": {
          "status": "ok",
          "timestamp": 1704352363888,
          "user_tz": -120,
          "elapsed": 80702,
          "user": {
            "displayName": "",
            "userId": ""
          }
        }
      },
      "id": "0woVzMXbIBAx",
      "execution_count": 2,
      "outputs": []
    },
    {
      "cell_type": "code",
      "source": [
        "PROJECT_ID = \"grey-gradient\" # @param {type:'string'}\n",
        "REGION = \"us-central1\" # @param {type:'string'}\n",
        "\n",
        "#Initialize Vertex AI SDK\n",
        "vertexai.init(project=PROJECT_ID, location = REGION)"
      ],
      "metadata": {
        "id": "eVgMkrnc9eDe",
        "executionInfo": {
          "status": "ok",
          "timestamp": 1704352363888,
          "user_tz": -120,
          "elapsed": 6,
          "user": {
            "displayName": "",
            "userId": ""
          }
        }
      },
      "execution_count": 3,
      "outputs": [],
      "id": "eVgMkrnc9eDe"
    },
    {
      "cell_type": "markdown",
      "source": [
        "# Designing the Basic LLM Architecture"
      ],
      "metadata": {
        "id": "I0MZsP_lMiXG"
      },
      "id": "I0MZsP_lMiXG"
    },
    {
      "cell_type": "code",
      "source": [
        "loader = GCSDirectoryLoader(project_name = PROJECT_ID, bucket = \"grey-gradient-02\")\n",
        "documents = loader.load()"
      ],
      "metadata": {
        "colab": {
          "base_uri": "https://localhost:8080/"
        },
        "id": "lhMtarTjK1Zg",
        "executionInfo": {
          "status": "ok",
          "timestamp": 1704352396217,
          "user_tz": -120,
          "elapsed": 31099,
          "user": {
            "displayName": "",
            "userId": ""
          }
        },
        "outputId": "4dc8f05c-77f7-4cb6-f1bf-3f54904d93fe"
      },
      "id": "lhMtarTjK1Zg",
      "execution_count": 4,
      "outputs": [
        {
          "output_type": "stream",
          "name": "stderr",
          "text": [
            "[nltk_data] Downloading package punkt to /root/nltk_data...\n",
            "[nltk_data]   Unzipping tokenizers/punkt.zip.\n",
            "[nltk_data] Downloading package averaged_perceptron_tagger to\n",
            "[nltk_data]     /root/nltk_data...\n",
            "[nltk_data]   Unzipping taggers/averaged_perceptron_tagger.zip.\n"
          ]
        }
      ]
    },
    {
      "cell_type": "code",
      "source": [
        "documents[0].page_content"
      ],
      "metadata": {
        "id": "_ITwhsbkK2yD"
      },
      "id": "_ITwhsbkK2yD",
      "execution_count": null,
      "outputs": []
    },
    {
      "cell_type": "code",
      "source": [
        "test = '20.0'\n",
        "\n",
        "test\n",
        "\n",
        "import string\n",
        "\n",
        "test.isdigit()"
      ],
      "metadata": {
        "colab": {
          "base_uri": "https://localhost:8080/"
        },
        "id": "KGsz7buROnoh",
        "executionInfo": {
          "status": "ok",
          "timestamp": 1704352415540,
          "user_tz": -120,
          "elapsed": 620,
          "user": {
            "displayName": "",
            "userId": ""
          }
        },
        "outputId": "99261675-80e2-4f61-b8b8-8a5391e80843"
      },
      "id": "KGsz7buROnoh",
      "execution_count": 6,
      "outputs": [
        {
          "output_type": "execute_result",
          "data": {
            "text/plain": [
              "False"
            ]
          },
          "metadata": {},
          "execution_count": 6
        }
      ]
    },
    {
      "cell_type": "code",
      "source": [
        "import re\n",
        "page_content = documents[0].page_content\n",
        "pattern = r'\\n\\n([0-9]+(?:\\.[0-9]+)?)\\n\\n'\n",
        "split_result = re.split(pattern, page_content)\n",
        "split_result"
      ],
      "metadata": {
        "colab": {
          "base_uri": "https://localhost:8080/"
        },
        "id": "GEVl_Hj-Y5hx",
        "executionInfo": {
          "status": "ok",
          "timestamp": 1704269769800,
          "user_tz": -120,
          "elapsed": 659,
          "user": {
            "displayName": "",
            "userId": ""
          }
        },
        "outputId": "65873d88-5097-4808-c4d3-62c549ec3587"
      },
      "id": "GEVl_Hj-Y5hx",
      "execution_count": null,
      "outputs": [
        {
          "output_type": "execute_result",
          "data": {
            "text/plain": [
              "[\"Basel Committee on Banking Supervision\\n\\nLEX\\n\\nLarge exposures\\n\\nLarge exposures regulation limits the maximum loss that a bank could face in the event of a sudden counterparty failure to a level that does not endanger the bank's solvency. This standard requires banks to measure their exposures to a single counterparty or a group of connected counterparties and limit the size of large exposures in relation to their capital.\\n\\nThis document has been generated on 01/02/2024 based on the Basel Framework data available on the BIS website (www.bis.org).\\n\\n© Bank for International Settlements 2024. All rights reserved.\\n\\nContents\\n\\nDefinitions and application\\n\\nRequirements\\n\\nExposure measurement\\n\\nLarge exposure rules for global systemically important banks\\n\\n1/20\",\n",
              " '4',\n",
              " '9',\n",
              " '11',\n",
              " '21\\n\\nLEX10\\n\\nDefinitions and application\\n\\nCross references to LEX30 updated.\\n\\nVersion effective as of 01 Jan 2023\\n\\nCross references to LEX30 updated.\\n\\n2/20\\n\\nRationale and objectives of a large exposures framework',\n",
              " '10.1',\n",
              " \"Throughout history there have been instances of banks failing due to concentrated exposures to individual counterparties or groups of connected counterparties. Large exposures regulation has been developed as a tool for limiting the maximum loss a bank could face in the event of a sudden counterparty failure to a level that does not endanger the bank's solvency.\",\n",
              " '10.2',\n",
              " \"A large exposures framework complements the Committee's risk-based capital standard because the latter is not designed specifically to protect banks from large losses resulting from the sudden default of a single counterparty or a group of connected counterparties. In particular, the minimum capital requirements (Pillar 1) of the Basel risk-based capital framework implicitly assume that a bank holds infinitely granular portfolios, ie no form of concentration risk is considered in calculating capital requirements. Contrary to this assumption, idiosyncratic risk due to large exposures to individual counterparties or groups of connected counterparties may be present in banks' portfolios. Although a supervisory review process (Pillar 2) concentration risk adjustment could be made to mitigate this risk,1 these adjustments are neither harmonised across jurisdictions, nor designed to protect a bank against very large losses from the default of a single counterparty or a group of connected counterparties. For this reason, the risk-based capital framework is not sufficient to fully mitigate the microprudential risk from exposures that are large compared to a bank's capital resources. That framework needs to be supplemented with a simple large exposures framework that protects banks from traumatic losses caused by the sudden default of an individual counterparty or group of connected counterparties. To serve as a backstop to risk-based capital requirements, the large exposures framework should be designed so that the maximum possible loss a bank could incur if a single counterparty or group of connected counterparties were to suddenly fail would not endanger the bank's survival as a going concern. Footnotes\",\n",
              " '1',\n",
              " 'The market risk standard [MAR] also explicitly requires that trading book models for specific risk capture concentration risk.',\n",
              " '10.3',\n",
              " 'The treatment of large exposures could also contribute to the stability of the financial system in a number of other ways. For example, material losses in one systemically important financial institution (SIFI) can trigger concerns about the solvency of other SIFIs, with potentially catastrophic consequences for global financial stability. There are at least two important channels for this contagion. First, investors may be concerned that other SIFIs might have exposures similar to those of the failing institution. Second, and more directly, investors may be concerned that other SIFIs have direct large exposures to the failing SIFI, in the form of either loans or credit guarantees. The Committee is of the view that the large exposures framework is a useful tool to mitigate the risk of contagion between global systemically important banks, thus supporting global financial stability. As a second example, this framework is also seen as a useful tool to contribute to strengthening the oversight and regulation of the shadow banking system in relation to large exposures, particularly the treatment of exposures to funds, securitisation structures and collective investment undertakings.\\n\\nScope and level of application',\n",
              " '10.4',\n",
              " 'The large exposures framework is constructed to serve as a backstop and complement to the risk-based capital standards. As a consequence, it must apply at the same level as the risk-based capital requirements are required to be applied following [SCO10], ie at every tier\\n\\n3/20\\n\\nwithin a banking group.',\n",
              " '10.5',\n",
              " 'The large exposures framework is applicable to all internationally active banks. As with all other standards issued by the Committee, member jurisdictions have the option to set more stringent standards. They also have the option to extend the application to a wider range of banks, with the possibility – if they deem it necessary – to develop a different approach for banks that usually fall outside the scope of the Basel framework.2 Footnotes',\n",
              " '2',\n",
              " 'For instance, the Committee notes that for these banks that fall outside the scope of application of the Basel framework, there may be a case for recognising physical collateral, which is not recognised in the large exposures framework set out in this document.',\n",
              " '10.6',\n",
              " 'The application of the large exposures framework at the consolidated level implies that a bank must consider all exposures to third parties across the relevant regulatory consolidation group and compare the aggregate of those exposures with the group’s Tier 1 capital.\\n\\nScope of counterparties and exemptions',\n",
              " '10.7',\n",
              " 'A bank must consider exposures to any counterparty. The only counterparties that are exempted from the framework are sovereigns as defined in [LEX30.31]. [LEX30.31] to [LEX30.59] sets out the types of counterparties that are exempted from the large exposure limit or for which another specific treatment is necessary. Any exposure type not included in [LEX30.31] to [LEX30.59] is subject in all respects to the large exposure limit.\\n\\nDefinition of a large exposure',\n",
              " '10.8',\n",
              " 'The sum of all exposure values of a bank to a counterparty or to a group of connected counterparties, as defined in [LEX10.9] to [LEX10.18], must be defined as a large exposure if it is equal to or above 10% of the bank’s Tier 1 capital (as defined in [CAP10.2]). The exposure values must be measured as specified in [LEX30].\\n\\nDefinition of connected counterparties',\n",
              " '10.9',\n",
              " 'In some cases, a bank may have exposures to a group of counterparties with specific relationships or dependencies such that, were one of the counterparties to fail, all of the counterparties would very likely fail. A group of this sort, referred to in this framework as a group of connected counterparties, must be treated as a single counterparty. In this case, the sum of the bank’s exposures to all the individual entities included within a group of connected counterparties is subject to the large exposure limit and to the regulatory reporting requirements as specified in [LEX20.1] to [LEX20.4].',\n",
              " '10.10',\n",
              " 'Two or more natural or legal persons shall be deemed a group of connected counterparties if at least one of the following criteria is satisfied.\\n\\n(1) Control relationship: one of the counterparties, directly or indirectly, has control over\\n\\nthe other(s).\\n\\n(2) Economic interdependence: if one of the counterparties were to experience financial problems, in particular funding or repayment difficulties, the other(s), as a result, would also be likely to encounter funding or repayment difficulties.',\n",
              " '10.11',\n",
              " 'Banks must assess the relationship amongst counterparties with reference to [LEX10.10] (1) and [LEX10.10](2) above in order to establish the existence of a group of connected\\n\\n4/20\\n\\ncounterparties.',\n",
              " '10.12',\n",
              " 'In assessing whether there is a control relationship between counterparties, banks must automatically consider that criterion [LEX10.10](1) is satisfied if one entity owns more than 50% of the voting rights of the other entity.',\n",
              " '10.13',\n",
              " 'In addition, banks must assess connectedness between counterparties based on control using the following criteria:\\n\\n(1) Voting agreements (eg control of a majority of voting rights pursuant to an agreement\\n\\nwith other shareholders);\\n\\n(2) Significant influence on the appointment or dismissal of an entity’s administrative,\\n\\nmanagement or supervisory body, such as the right to appoint or remove a majority of members in those bodies, or the fact that a majority of members have been appointed solely as a result of the exercise of an individual entity’s voting rights;\\n\\n(3) Significant influence on senior management, eg an entity has the power, pursuant to a contract or otherwise, to exercise a controlling influence over the management or policies of another entity (eg through consent rights over key decisions).',\n",
              " '10.14',\n",
              " 'Banks are also expected to refer to criteria specified in appropriate internationally recognised accounting standards for further qualitative guidance when determining control.\\n\\n10.15 Where control has been established based on any of these criteria, a bank may still\\n\\ndemonstrate to its supervisor in exceptional cases, eg due to the existence of specific circumstances and corporate governance safeguards, that such control does not necessarily result in the entities concerned constituting a group of connected counterparties.',\n",
              " '10.16',\n",
              " \"In establishing connectedness based on economic interdependence, banks must consider, at a minimum, the following qualitative criteria:\\n\\n(1) Where 50% or more of one counterparty's gross receipts or gross expenditures (on an\\n\\nannual basis) is derived from transactions with the other counterparty (eg the owner of a residential/commercial property and the tenant who pays a significant part of the rent);\\n\\n(2) Where one counterparty has fully or partly guaranteed the exposure of the other\\n\\ncounterparty, or is liable by other means, and the exposure is so significant that the guarantor is likely to default if a claim occurs;\\n\\n(3) Where a significant part of one counterparty’s production/output is sold to another\\n\\ncounterparty, which cannot easily be replaced by other customers;\\n\\n(4) When the expected source of funds to repay the loans of both counterparties is the\\n\\nsame and neither counterparty has another independent source of income from which the loan may be serviced and fully repaid;\\n\\n(5) Where it is likely that the financial problems of one counterparty would cause\\n\\ndifficulties for the other counterparties in terms of full and timely repayment of liabilities;\\n\\n(6) Where the insolvency or default of one counterparty is likely to be associated with the\\n\\ninsolvency or default of the other(s);\\n\\n(7) When two or more counterparties rely on the same source for the majority of their funding and, in the event of the common provider’s default, an alternative provider\\n\\n5/20\",\n",
              " '10.17',\n",
              " '10.18\\n\\ncannot be found – in this case, the funding problems of one counterparty are likely to spread to another due to a one-way or two-way dependence on the same main funding source.\\n\\nThere may, however, be circumstances where some of these criteria do not automatically imply an economic dependence that results in two or more counterparties being connected. Provided that the bank can demonstrate to its supervisor that a counterparty which is economically closely related to another counterparty may overcome financial difficulties, or even the second counterparty’s default, by finding alternative business partners or funding sources within an appropriate time period, the bank does not need to combine these counterparties to form a group of connected counterparties.\\n\\nThere are cases where a thorough investigation of economic interdependencies will not be proportionate to the size of the exposures. Therefore, banks are expected to identify possible connected counterparties on the basis of economic interdependence in all cases where the sum of all exposures to one individual counterparty exceeds 5% of Tier 1 capital.\\n\\n6/20\\n\\nLEX20\\n\\nRequirements\\n\\nFirst version in the format of the consolidated framework.\\n\\nVersion effective as of 15 Dec 2019\\n\\nFirst version in the format of the consolidated framework.\\n\\n7/20\\n\\nMinimum requirement – the large exposure limit',\n",
              " '20.1',\n",
              " 'The sum of all the exposure values of a bank to a single counterparty or to a group of connected counterparties must not be higher than 25% of the bank’s Tier 1 capital at all times. However, as explained in [LEX40], this figure is set at 15% for a global systemically important bank’s (G-SIB’s) exposures to another G\\x00SIB.',\n",
              " '20.2',\n",
              " 'The exposures must be measured as specified in [LEX30]. Tier 1 capital for the purpose of the large exposures framework is the Tier 1 capital defined in [CAP10.2].',\n",
              " '20.3',\n",
              " 'Breaches of the limit, which must remain the exception, must be communicated immediately to the supervisor and must be rapidly rectified.\\n\\nRegulatory reporting',\n",
              " '20.4',\n",
              " \"Banks must report to the supervisor the exposure values before and after application of the credit risk mitigation techniques. Banks must report to the supervisor:\\n\\n(1) all exposures with values measured as specified in [LEX30] equal to or above 10% of the\\n\\nbank's Tier 1 capital (ie meeting the definition of a large exposure in [LEX10.8]);\\n\\n(2) all other exposures with values measured as specified in [LEX30] without the effect of\\n\\ncredit risk mitigation being taken into account equal to or above 10% of the bank's Tier 1 capital;\\n\\n(3) all the exempted exposures with values equal to or above 10% of the bank's Tier 1\\n\\ncapital; and\\n\\n(4) their largest 20 exposures to counterparties measured as specified in [LEX30] and included in the scope of application, irrespective of the values of these exposures relative to the bank's Tier 1 capital.\\n\\n8/20\\n\\nLEX30\\n\\nExposure measurement\\n\\nReflects changes in market risk requirements published January 2017 and the revised implementation date announced on 27 March 2020.\\n\\nVersion effective as of 01 Jan 2023\\n\\nReflects changes in market risk requirements published January 2017 and the revised implementation date announced on 27 March 2020.\\n\\n9/20\\n\\nGeneral measurement principles\",\n",
              " '30.1',\n",
              " 'The exposure values a bank must consider in order to identify large exposures to a counterparty are all those exposures defined under the risk-based capital framework. It must consider both on- and off-balance sheet exposures included in either the banking or trading book and instruments with counterparty credit risk under the risk-based capital framework.',\n",
              " '30.2',\n",
              " 'An exposure amount to a counterparty that is deducted from capital must not be added to other exposures to that counterparty for the purpose of the large exposure limit.1 Footnotes',\n",
              " '1',\n",
              " 'This general approach does not apply where an exposure is 1,250% risk-weighted. When this is the case, this exposure must be added to any other exposures to the same counterparty and the sum is subject to the large exposure limit, except if this exposure is specifically exempted for other reasons.\\n\\nDefinition of exposure value',\n",
              " '30.3',\n",
              " 'The exposure value must be defined as the accounting value of the exposure.2 As an alternative, a bank may consider the exposure value gross of specific provisions and value adjustments Footnotes',\n",
              " '2',\n",
              " 'Net of specific provisions and value adjustments.',\n",
              " '30.4',\n",
              " 'The exposure value for instruments that give rise to counterparty credit risk and are not securities financing transactions must be the exposure at default according to the standardised approach for counterparty credit risk (SA-CCR).3 Footnotes',\n",
              " '3',\n",
              " 'See [CRE52].',\n",
              " '30.5',\n",
              " 'Banks should calculate the exposure value for their securities financing transaction (SFT) exposures applying the comprehensive approach with supervisory haircuts described in [CRE22].',\n",
              " '30.6',\n",
              " 'For the purpose of the large exposures framework, off-balance sheet items will be converted into credit exposure equivalents through the use of credit conversion factors (CCFs) by applying the CCFs set out for the standardised approach for credit risk for risk- based capital requirements, with a floor of 10%.\\n\\nEligible credit risk mitigation techniques',\n",
              " '30.7',\n",
              " 'Eligible credit risk mitigation (CRM) techniques for large exposures purposes are those that meet the minimum requirements and eligibility criteria for the recognition of unfunded credit protection4 and financial collateral that qualify as eligible financial collateral under the standardised approach for risk-based capital requirement purposes. Footnotes',\n",
              " '4',\n",
              " 'Unfunded credit protection refers collectively to guarantees and credit derivatives the treatment of which is described in [CRE22].\\n\\n30.8 Other forms of collateral that are only eligible under the internal-ratings based approach in\\n\\naccordance with [CRE32.8] (receivables, commercial and residential real estate and other\\n\\n10/20\\n\\ncollateral) are not eligible to reduce exposure values for large exposures purposes.',\n",
              " '30.9',\n",
              " 'A bank must recognise an eligible CRM technique in the calculation of an exposure whenever it has used this technique to calculate the risk-based capital requirements, and provided it meets the conditions for recognition under the large exposures framework.',\n",
              " '30.10',\n",
              " 'In accordance with provisions set out in the risk-based capital framework,5 hedges with maturity mismatches are recognised only when their original maturities are equal to or greater than one year and the residual maturity of a hedge is not less than three months. Footnotes',\n",
              " '5',\n",
              " 'See [CRE22.10] to [CRE22.14].',\n",
              " '30.11',\n",
              " 'If there is a maturity mismatch in respect of credit risk mitigants (collateral, on-balance sheet netting, guarantees and credit derivatives) recognised in the risk-based capital requirement, the adjustment of the credit protection for the purpose of calculating large exposures is determined using the same approach as in the risk-based capital requirement.6 Footnotes',\n",
              " '6',\n",
              " 'See [CRE22.10] to [CRE22.14].\\n\\n30.12 Where a bank has in place legally enforceable netting arrangements for loans and\\n\\ndeposits, it may calculate the exposure values for large exposures purposes according to the calculation it uses for capital requirements purposes – ie on the basis of net credit exposures subject to the conditions set out in the approach to on-balance sheet netting in the risk-based capital requirement.7 Footnotes',\n",
              " '7',\n",
              " 'See [CRE22.68] and [CRE22.69].\\n\\nRecognition of CRM techniques in reduction of original exposure',\n",
              " '30.13',\n",
              " 'A bank must reduce the value of the exposure to the original counterparty by the amount of the eligible CRM technique recognised for risk-based capital requirements purposes. This recognised amount is:\\n\\n(1) the value of the protected portion in the case of unfunded credit protection;\\n\\n(2) the value of the portion of claim collateralised by the market value of the recognised financial collateral when the bank uses the simple approach for risk-based capital requirements purposes;\\n\\n(3) the value of the collateral as recognised in the calculation of the counterparty credit\\n\\nrisk exposure value for any instruments with counterparty credit risk, such as over-the- counter derivatives;\\n\\n(4) the value of collateral adjusted after applying the required haircuts, in the case of\\n\\nfinancial collateral when the bank applies the comprehensive approach. The haircuts used to reduce the collateral amount are the supervisory haircuts under the comprehensive approach.8 Internally modelled haircuts must not be used.\\n\\nFootnotes',\n",
              " '8',\n",
              " 'The supervisory haircuts are described in [CRE22.49] and [CRE22.50].\\n\\nRecognition of exposures to CRM providers\\n\\n11/20\\n\\n30.14 Whenever a bank is required to recognise a reduction of the exposure to the original\\n\\ncounterparty due to an eligible CRM technique, it must also recognise an exposure to the CRM provider. The amount assigned to the CRM provider is the amount by which the exposure to the original counterparty is reduced (except in the cases defined in [LEX30.28]).\\n\\nCalculation of exposure value for trading book positions',\n",
              " '30.15',\n",
              " 'A bank must add any exposures to a single counterparty arising in the trading book to any other exposures to that counterparty that lie in the banking book to calculate its total exposure to that counterparty.',\n",
              " '30.16',\n",
              " 'The exposures considered in this section correspond to concentration risk associated with the default of a single counterparty for exposures included in the trading book. Therefore, positions in financial instruments such as bonds and equities must be constrained by the large exposure limit, but concentrations in a particular commodity or currency need not be.',\n",
              " '30.17',\n",
              " 'The exposure value for trading book positions to any single counterparty must be calculated as the gross jump-to-default amount defined in [MAR22.9] to [MAR22.14] without application of risk weighting9 with the exception that all instruments must be assigned a loss-given-default of 100%. Footnotes',\n",
              " '9',\n",
              " 'Sovereign exposures held in the trading book are excluded from the large exposures framework as set out in [LEX10.7] and [LEX30.31] to [LEX30.34].',\n",
              " '30.18',\n",
              " 'The maturity adjustments set out in [MAR22.15] to [MAR22.18] are not applicable in the context of the large exposure standards.',\n",
              " '30.19',\n",
              " 'The exposure value for trading book positions to a group of connected counterparties is the sum of positive (ie net long) gross jump-to-defaults for each counterparty within that group.',\n",
              " '30.20',\n",
              " \"Exposure values of banks' investments in transactions (ie index positions, securitisations, hedge funds or investment funds) must be calculated applying the same rules as for similar instruments in the banking book (see [LEX30.41] to [LEX30.53]). Hence, the amount invested in a particular structure may be assigned to the structure itself, defined as a distinct counterparty, to the counterparties corresponding to the underlying assets, or to the unknown client, following the rules described in [LEX30.41] to [LEX30.46]).\",\n",
              " '30.21',\n",
              " 'Covered bonds held in the trading book are subject to the treatment described in [LEX30.37] to [LEX30.40].\\n\\nOffsetting long and short positions in the trading book',\n",
              " '30.22',\n",
              " \"Banks may offset long and short positions in the same issue (two issues are defined as the same if the issuer, coupon, currency and maturity are identical). Consequently, banks may consider a net position in a specific issue for the purpose of calculating a bank's exposure to a particular counterparty.\",\n",
              " '30.23',\n",
              " 'Positions in different issues from the same counterparty may be offset only when the short position is junior to the long position, or if the positions are of the same seniority.',\n",
              " '30.24',\n",
              " 'Similarly, for positions hedged by credit derivatives, the hedge may be recognised\\n\\n12/20\\n\\nprovided the underlying of the hedge and the position hedged fulfil the provision of [LEX30.23] (the short position is junior or of equivalent seniority to the long position).',\n",
              " '30.25',\n",
              " 'In order to determine the relative seniority of positions, securities may be allocated into broad buckets of degrees of seniority (for example, \"Equity\", \"Subordinated Debt\" and \"Senior Debt\").',\n",
              " '30.26',\n",
              " 'For those banks that find it excessively burdensome to allocate securities to different buckets based on relative seniority, they may recognise no offsetting of long and short positions in different issues relating to the same counterparty in calculating exposures.',\n",
              " '30.27',\n",
              " 'In addition, in the case of positions hedged by credit derivatives, any reduction in exposure to the original counterparty will correspond to a new exposure to the credit protection provider, following the principles underlying the substitution approach stated in [LEX30.14], except in the case described in [LEX30.28].\\n\\n30.28 When the credit protection takes the form of a credit default swap (CDS) and either the\\n\\nCDS provider or the referenced entity is not a financial entity, the amount to be assigned to the credit protection provider is not the amount by which the exposure to the original counterparty is reduced but, instead, the counterparty credit risk exposure value calculated according to the SA-CCR.10 For the purposes of this paragraph, financial entities comprise:\\n\\n(1) regulated financial institutions, defined as a parent and its subsidiaries where any substantial legal entity in the consolidated group is supervised by a regulator that imposes prudential requirements consistent with international norms. These include, but are not limited to, prudentially regulated insurance companies, broker/dealers, banks, thrifts and futures commission merchants; and\\n\\n(2) unregulated financial institutions, defined as legal entities whose main business\\n\\nincludes: the management of financial assets, lending, factoring, leasing, provision of credit enhancements, securitisation, investments, financial custody, central counterparty services, proprietary trading and other financial services activities identified by supervisors.\\n\\nFootnotes',\n",
              " '10',\n",
              " 'See [CRE52].\\n\\n30.29 Netting across the banking and trading books is not permitted.\\n\\n30.30 When the result of the offsetting is a net short position with a single counterparty, this net exposure need not be considered as an exposure for large exposure purposes (see [LEX30.16]).\\n\\nSovereign exposures and entities connected with sovereigns',\n",
              " '30.31',\n",
              " \"As set out in [LEX10.7], banks' exposures to sovereigns and their central banks as set out in [CRE20.7] to [CRE20.10] are exempted. This exemption also applies to public sector entities treated as sovereigns according to [CRE20]. Any portion of an exposure guaranteed by, or secured by financial instruments issued by, sovereigns would be similarly excluded from the scope of this framework to the extent that the eligibility criteria for recognition of the credit risk mitigation are met.\\n\\n30.32 Where two (or more) entities that are outside the scope of the sovereign exemption are\\n\\ncontrolled by or economically dependent on an entity that falls within the scope of the sovereign exemption defined in [LEX30.31], and are otherwise not connected, those 13/20\\n\\nentities need not be deemed to constitute a group of connected counterparties pursuant to [LEX10.9] to [LEX10.15].\",\n",
              " '30.33',\n",
              " 'However, as specified in [LEX20.4], a bank must report exposures subject to the sovereign exemption if these exposures meet the criteria for definition as a large exposure (see [LEX10.8]).',\n",
              " '30.34',\n",
              " 'In addition, if a bank has an exposure to an exempted entity which is hedged by a credit derivative, the bank will have to recognise an exposure to the counterparty providing the credit protection as prescribed in [LEX30.14] and [LEX30.28], notwithstanding the fact that the original exposure is exempted.\\n\\nInterbank exposures',\n",
              " '30.35',\n",
              " 'To avoid disturbing the payment and settlement processes, intraday interbank exposures are not subject to the large exposures framework, either for reporting purposes or for application of the large exposure limit.',\n",
              " '30.36',\n",
              " 'In stressed circumstances, supervisors may have to accept a breach of an interbank limit ex post, in order to help ensure stability in the interbank market.\\n\\nCovered bonds',\n",
              " '30.37',\n",
              " 'Covered bonds are bonds issued by a bank or mortgage institution and are subject by law to special public supervision designed to protect bond holders. Proceeds deriving from the issue of these bonds must be invested in conformity with the law in assets which, during the whole period of the validity of the bonds, are capable of covering claims attached to the bonds and which, in the event of the failure of the issuer, would be used on a priority basis for the reimbursement of the principal and payment of the accrued interest.',\n",
              " '30.38',\n",
              " \"A covered bond satisfying the conditions set out in [LEX30.37] may be assigned an exposure value of no less than 20% of the nominal value of the bank's covered bond holding. Other covered bonds must be assigned an exposure value equal to 100% of the nominal value of the bank's covered bond holding. The counterparty to which the exposure value is assigned is the issuing bank.\",\n",
              " '30.39',\n",
              " 'To be eligible to be assigned an exposure value of less than 100%, a covered bond must satisfy all the following conditions:\\n\\n(1) it must meet the general definition set out in [LEX30.37];\\n\\n(2) the pool of underlying assets must exclusively consist of:\\n\\n(a) claims on, or guaranteed by, sovereigns, their central banks, public sector entities\\n\\nor multilateral development banks;\\n\\n(b) claims secured by mortgages on residential real estate that would qualify for a 35% or lower risk weight under [CRE20] for credit risk and have a loan-to-value ratio of 80% or lower; and/or\\n\\n(c) claims secured by commercial real estate that would qualify for the 100% or lower\\n\\nrisk-weight under [CRE20] and with a loan-to-value ratio of 60% or lower;\\n\\n(3) The nominal value of the pool of assets assigned to the covered bond instrument(s) by its issuer should exceed its nominal outstanding value by at least 10%. The value of the pool of assets for this purpose does not need to be that required by the legislative framework. However, if the legislative framework does not stipulate a requirement of at least 10%, the issuing bank needs to publicly disclose on a regular basis that their\\n\\n14/20\\n\\ncover pool meets the 10% requirement in practice. In addition to the primary assets listed in [LEX30.39](2), the additional collateral may include substitution assets (cash or short term liquid and secure assets held in substitution of the primary assets to top up the cover pool for management purposes) and derivatives entered into for the purposes of hedging the risks arising in the covered bond programme.',\n",
              " '30.40',\n",
              " 'In order to calculate the required maximum loan-to-value ratio for residential real estate and commercial real estate refered to in [LEX30.39], the operational requirements included in [CRE36.131] regarding the objective market value of collateral and the frequent revaluation must be used. The conditions set out in [LEX30.39] must be satisfied at the inception of the covered bond and throughout its remaining maturity.\\n\\nCollective investment undertakings, securitisation vehicles and other structures',\n",
              " '30.41',\n",
              " 'Banks must consider exposures even when a structure lies between the bank and the exposures, that is, even when the bank invests in structures through an entity which itself has exposures to assets (hereafter referred to as the \"underlying assets\"). Banks must assign the exposure amount, ie the amount invested in a particular structure, to specific counterparties following the approach described below. Such structures include funds, securitisations and other structures with underlying assets.',\n",
              " '30.42',\n",
              " \"A bank may assign the exposure amount to the structure itself, defined as a distinct counterparty, if it can demonstrate that the bank's exposure amount to each underlying asset of the structure is smaller than 0.25% of its Tier 1 capital, considering only those exposures to underlying assets that result from the investment in the structure itself and using the exposure value calculated according to [LEX30.48] and [LEX30.49].11 In this case, a bank is not required to look through the structure to identify the underlying assets. Footnotes\",\n",
              " '11',\n",
              " 'By definition, this required test will be passed if the bank’s whole investment in a structure is below 0.25% of its Tier 1 capital.',\n",
              " '30.43',\n",
              " \"A bank must look through the structure to identify those underlying assets for which the underlying exposure value is equal to or above 0.25% of its Tier 1 capital. In this case, the counterparty corresponding to each of the underlying assets must be identified so that these underlying exposures can be added to any other direct or indirect exposure to the same counterparty. The bank's exposure amount to the underlying assets that are below 0.25% of the bank's Tier 1 capital may be assigned to the structure itself (ie partial look- through is permitted).\",\n",
              " '30.44',\n",
              " 'If a bank is unable to identify the underlying assets of a structure:\\n\\n(1) where the total amount of its exposure does not exceed 0.25% of its Tier 1 capital, the\\n\\nbank must assign the total exposure amount of its investment to the structure;\\n\\n(2) otherwise, it must assign this total exposure amount to the unknown client.',\n",
              " '30.45',\n",
              " 'The bank must aggregate all unknown exposures as if they related to a single counterparty (the unknown client), to which the large exposure limit would apply.\\n\\n30.46 When the look-through approach (LTA) is not required according to [LEX30.42], a bank\\n\\nmust nevertheless be able to demonstrate that regulatory arbitrage considerations have not influenced the decision whether to look through or not - eg that the bank has not circumvented the large exposure limit by investing in several individually immaterial transactions with identical underlying assets.\\n\\n15/20',\n",
              " '30.47',\n",
              " \"If the LTA need not be applied, a bank's exposure to the structure must be the nominal amount it invests in the structure.\\n\\n30.48 When the LTA is required according to the paragraphs above, the exposure value assigned to a counterparty is equal to the pro rata share that the bank holds in the structure multiplied by the value of the underlying asset in the structure. Thus, a bank holding a 1% share of a structure that invests in 20 assets each with a value of 5 must assign an exposure of 0.05 to each of the counterparties. An exposure to a counterparty must be added to any other direct or indirect exposures the bank has to that counterparty.\\n\\n30.49 When the LTA is required according to the paragraphs above, the exposure value to a counterparty is measured for each tranche within the structure, assuming a pro rata distribution of losses amongst investors in a single tranche. To compute the exposure value to the underlying asset, a bank must:\\n\\n(1) first, consider the lower of the value of the tranche in which the bank invests and the nominal value of each underlying asset included in the underlying portfolio of assets\\n\\n(2) second, apply the pro rata share of the bank's investment in the tranche to the value\\n\\ndetermined in the first step above.\",\n",
              " '30.50',\n",
              " 'Banks must identify third parties that may constitute an additional risk factor inherent in a structure itself rather than in the underlying assets. Such a third party could be a risk factor for more than one structure that a bank invests in. Examples of roles played by third parties include originator, fund manager, liquidity provider and credit protection provider.',\n",
              " '30.51',\n",
              " \"The identification of an additional risk factor has two implications.\\n\\n(1) The first implication is that banks must connect their investments in those structures\\n\\nwith a common risk factor to form a group of connected counterparties. In such cases, the manager would be regarded as a distinct counterparty so that the sum of a bank's investments in all of the funds managed by this manager would be subject to the large exposure limit, with the exposure value being the total value of the different investments. But in other cases, the identity of the manager may not comprise an additional risk factor - for example, if the legal framework governing the regulation of particular funds requires separation between the legal entity that manages the fund and the legal entity that has custody of the fund's assets. In the case of structured finance products, the liquidity provider or sponsor of short-term programmes (asset- backed commercial paper conduits and structured investment vehicles) may warrant consideration as an additional risk factor (with the exposure value being the amount invested). Similarly, in synthetic deals, the protection providers (sellers of protection by means of CDS/guarantees) may be an additional source of risk and a common factor for interconnecting different structures (in this case, the exposure value would correspond to the percentage value of the underlying portfolio).\\n\\n(2) The second implication is that banks may add their investments in a set of structures\\n\\nassociated with a third party that constitutes a common risk factor to other exposures (such as a loan) it has to that third party. Whether the exposures to such structures must be added to any other exposures to the third party would again depend on a case-by-case consideration of the specific features of the structure and on the role of the third party. In the example of the fund manager, adding together the exposures may not be necessary because potentially fraudulent behaviour may not necessarily affect the repayment of a loan. The assessment may be different where the risk to the value of investments underlying the structures arises in the event of a third-party default. For example, in the case of a credit protection provider, the source of the\\n\\n16/20\\n\\nadditional risk for the bank investing in a structure is the default of the credit protection provider. The bank must add the investment in the structure to the direct exposures to the credit protection provider since both exposures might crystallise into losses in the event that the protection provider defaults (ignoring the covered part of the exposures may lead to the undesirable situation of a high concentration risk exposure to issuers of collateral or providers of credit protection).\",\n",
              " '30.52',\n",
              " 'It is conceivable that a bank may consider multiple third parties to be potential drivers of additional risk. In this case, the bank must assign the exposure resulting from the investment in the relevant structures to each of the third parties.',\n",
              " '30.53',\n",
              " 'The requirement set out in [LEX30.47] to recognise a structural risk inherent in the structure instead of the risk stemming from the underlying exposures is independent of whatever the general assessment of additional risks concludes.\\n\\nExposures to central counterparties',\n",
              " '30.54',\n",
              " \"Banks' exposures to qualifying central counterparties (QCCPs)12 related to clearing activities are exempted from the large exposures framework. However, these exposures are subject to the regulatory reporting requirements as defined in [LEX20.4]. Footnotes\",\n",
              " '12',\n",
              " 'The definition of QCCP for large exposures purposes is the same as that used for risk-based capital requirement purposes. A QCCP is an entity that is licensed to operate as a central counterparty (CCP) (including a license granted by way of confirming an exemption), and is permitted by the appropriate regulator/overseer to operate as such with respect to the products offered. This is subject to the provision that the CCP is based and prudentially supervised in a jurisdiction where the relevant regulator/overseer has established, and publicly indicated that it applies to the CCP on an ongoing basis, domestic rules and regulations that are consistent with the Committee on Payment and Financial Infrastructure and International Organization of Securities Commissions’ Principles for Financial Market Infrastructures.',\n",
              " '30.55',\n",
              " 'In the case of non-QCCPs, banks must measure their exposure as a sum of both the clearing exposures described in [LEX30.57] and the non-clearing exposures described in [LEX30.59], and must respect the general large exposure limit of 25% of the Tier 1 capital.',\n",
              " '30.56',\n",
              " 'The concept of connected counterparties described in [LEX10.9] to [LEX10.18] does not apply in the context of exposure to central counterparties (CCPs) that are specifically related to clearing activities. FAQ\\n\\nFAQ1\\n\\nCould you explain how to aggregate exposures to a CCP when the bank has both exposures related to clearing and exposures unrelated to clearing towards the CCP with an example?\\n\\nAccording to [LEX30.56] clearing exposures to CCPs are not subject to the concept of connected counterparties described in [LEX10.9] to [LEX10.18], whereas non-clearing exposures are subject to the concept. Therefore, banks must separately measure and report to their supervisors clearing and non-clearing exposures to CCPs and, for the latter, to check whether the CCP is connected to other counterparties by meeting either the control relationship or the economic interdependence criteria.\\n\\nAs an example, if a bank has exposures to a QCCP for a total of 100 made up of 50\\n\\n17/20\\n\\ntrade exposures, 10 default fund contribution and 40 liquidity line, it should report 60 under exposures related to clearing. For the other 40, it should check whether the QCCP is connected to other of its counterparties, including other CCPs. Assuming that the QCCP is also part of a group of connected counterparties, the bank would have to add this 40 from liquidity line to other exposures to counterparties in the same group. The sum of these exposures will be subject to the 25% large exposure limit.',\n",
              " '30.57',\n",
              " 'Banks must identify exposures to a CCP related to clearing activities and sum together these exposures. Exposures related to clearing activities are listed in the table below together with the exposure value to be used:\\n\\nExposures related to clearing activities\\n\\nTable 1\\n\\nType of exposure\\n\\nExposure value\\n\\nTrade exposures\\n\\nThe exposure value of trade exposures must be calculated using the exposure measures prescribed in other parts of this framework for the respective type of exposures (eg using the SA-CCR for derivative exposures).\\n\\nSegregated initial margin\\n\\nThe exposure value is zero.13\\n\\nNon-segregated initial margin\\n\\nThe exposure value is the nominal amount of initial margin posted.\\n\\nPre-funded default fund contributions\\n\\nNominal amount of the funded contribution.14\\n\\nUnfunded default fund contributions\\n\\nThe exposure value is zero.\\n\\nEquity stakes\\n\\nThe exposure value is the nominal amount.15\\n\\nFootnotes',\n",
              " '13',\n",
              " 'When the initial margin (IM) posted is bankruptcy-remote from the CCP – in the sense that it is segregated from the CCP’s own accounts, eg when the IM is held by a third-party custodian – this amount cannot be lost by the bank if the CCP defaults; therefore, the IM posted by the bank can be exempted from the large exposure limit.',\n",
              " '14',\n",
              " 'The exposure value for pre-funded default fund contributions may need to be revised if applied to QCCPs and not only to non-QCCPs.',\n",
              " '15',\n",
              " 'If equity stakes are deducted from the level of capital on which the large exposure limit is based, such exposures must be excluded from the definition of an exposure to a CCP.',\n",
              " '30.58',\n",
              " 'Regarding exposures subject to clearing services (the bank acting as a clearing member or being a client of a clearing member), the bank must determine the counterparty to which exposures must be assigned by applying the provisions of the risk-based capital requirements.16 Footnotes',\n",
              " '16',\n",
              " 'See [CRE54].\\n\\n30.59 Other types of exposures that are not directly related to clearing services provided by the CCP, such as funding facilities, credit facilities, guarantees etc, must be measured according to the rules set out in this chapter, as for any other type of counterparty. These exposures will be added together and be subjected to the large exposure limit.\\n\\n18/20\\n\\nLEX40\\n\\nLarge exposure rules for global systemically important banks\\n\\nFirst version in the format of the consolidated framework.\\n\\nVersion effective as of 15 Dec 2019\\n\\nFirst version in the format of the consolidated framework.\\n\\n19/20',\n",
              " '40.1',\n",
              " 'The large exposure limit applied to a global systemically important bank’s (G-SIB’s) exposure to another G-SIB is set at 15% of Tier 1 capital. The limit applies to G-SIBs as identified by the Basel Committee (see [SCO40]) and published annually by the Financial Stability Board (FSB). When a bank becomes a G-SIB, it and other G-SIBs must apply the 15% limit within 12 months of this event, which is the same time frame within which a bank that has become a G-SIB would need to satisfy its higher loss absorbency requirement (see [RBC40.6]).\\n\\n40.2 Member countries are at liberty to set more stringent standards, as with any other\\n\\nstandards approved by the Committee. In particular, the concern about contagion that has led the Committee to propose a relatively tighter limit on exposures between G-SIBs applies, in principle, at the jurisdictional level to domestic systemically important banks (D- SIBs). The Committee therefore encourages jurisdictions to consider applying stricter limits to exposures between D-SIBs and to exposures of smaller banks to G-SIBs. The same logic would also be valid for the application of tighter limits to exposures to non-bank global systemically important financial institutions, and such a limit might be considered by the Committee in the future.',\n",
              " '40.3',\n",
              " 'The assessment of the systemic importance of G-SIBs is made using data that relate to the consolidated group (see [SCO40.5]) and, consistent with this, the additional loss absorbency requirement will apply to the consolidated group. But, consistent with the additional loss absorbency requirement for G-SIBs, the application of the relatively tighter limit on exposures between G-SIBs at the consolidated level does not rule out the option for host jurisdictions of subsidiaries of a group that is identified as a G-SIB to also apply the limit at the individual legal entity or consolidated level within their jurisdiction, ie to impose the 15% limit on the subsidiaries’ exposures to other G-SIBs (defined at the individual legal entity or consolidated level within their jurisdiction).\\n\\n20/20']"
            ]
          },
          "metadata": {},
          "execution_count": 51
        }
      ]
    },
    {
      "cell_type": "code",
      "source": [
        "from langchain.docstore.document import Document\n",
        "import re\n",
        "\n",
        "loader = GCSDirectoryLoader(project_name = PROJECT_ID, bucket = \"grey-gradient-02\")\n",
        "documents = loader.load()\n",
        "\n",
        "#text_splitter = RecursiveCharacterTextSplitter(chunk_size = 400, chunk_overlap=12)\n",
        "#docs = text_splitter.split_documents(documents)\n",
        "#print(f\"# of documents = {len(docs)}\")\n",
        "\n",
        "page_content = documents[0].page_content\n",
        "#page_content = page_content.replace('\\n', ' ')\n",
        "#page_content = page_content.replace('\\r', ' ')\n",
        "#page_content = page_content.replace('\\t', ' ')\n",
        "#sentence_list = page_content.split('.')\n",
        "#stripped_sentences = []\n",
        "#for sentence in sentence_list:\n",
        "  #str_sen = sentence.strip()\n",
        "  #stripped_sentences.append(str_sen)\n",
        "#stripped_sentences_no_num = [sentence for sentence in stripped_sentences if not sentence.isdigit()]\n",
        "\n",
        "pattern = r'\\n\\n([0-9]+(?:\\.[0-9]+)?)\\n\\n'\n",
        "split_result = re.split(pattern, page_content)\n",
        "\n",
        "chunked_doc = []\n",
        "for para in split_result:\n",
        "  chunked_doc.append(Document(page_content = para, metadata = documents[0].metadata))\n",
        "\n",
        "\n",
        "REQUESTS_PER_MINUTE = 600\n",
        "\n",
        "embedding = VertexAIEmbeddings(\n",
        "    requests_per_minute = REQUESTS_PER_MINUTE,\n",
        "    Model_name = 'textembedding-bison@001'\n",
        "    )\n",
        "\n",
        "test_vector_db = Chroma.from_documents(chunked_doc, embedding)\n",
        "\n",
        "# Expose the index to the retriever\n",
        "retriever = test_vector_db.as_retriever(\n",
        "    search_type=\"similarity\",\n",
        "    search_kwargs={\"k\":2}\n",
        ")"
      ],
      "metadata": {
        "colab": {
          "base_uri": "https://localhost:8080/"
        },
        "id": "04lZUZLJNjT-",
        "executionInfo": {
          "status": "ok",
          "timestamp": 1704352605516,
          "user_tz": -120,
          "elapsed": 7735,
          "user": {
            "displayName": "",
            "userId": ""
          }
        },
        "outputId": "464c45ed-99d7-4eaf-fdab-313b8c4d099f"
      },
      "id": "04lZUZLJNjT-",
      "execution_count": 11,
      "outputs": [
        {
          "output_type": "stream",
          "name": "stderr",
          "text": [
            "WARNING:langchain_community.embeddings.vertexai:Model_name will become a required arg for VertexAIEmbeddings starting from Feb-01-2024. Currently the default is set to textembedding-gecko@001\n"
          ]
        }
      ]
    },
    {
      "cell_type": "code",
      "source": [
        "llm = VertexAI(\n",
        "    model_name = \"text-bison\",\n",
        "    max_output_tokens = 256,\n",
        "    temperature = 0.1,\n",
        "    top_p = 0.9,\n",
        "    top_k = 40,\n",
        "    verbose = True)\n",
        "\n",
        "\n",
        "qa = RetrievalQA.from_chain_type(\n",
        "    llm = llm,\n",
        "    chain_type = \"stuff\",\n",
        "    retriever = retriever,\n",
        "    verbose = True,\n",
        "    return_source_documents = True\n",
        ")"
      ],
      "metadata": {
        "id": "CBrBbzI6OZA3",
        "executionInfo": {
          "status": "ok",
          "timestamp": 1704352611145,
          "user_tz": -120,
          "elapsed": 612,
          "user": {
            "displayName": "",
            "userId": ""
          }
        }
      },
      "id": "CBrBbzI6OZA3",
      "execution_count": 12,
      "outputs": []
    },
    {
      "cell_type": "code",
      "source": [
        "query = \"Explain the Eligible credit risk mitigation techniques, in bullet points\"\n",
        "result = qa({\"query\": query})\n",
        "print(result['result'])"
      ],
      "metadata": {
        "colab": {
          "base_uri": "https://localhost:8080/"
        },
        "id": "wPasfm9dBinT",
        "executionInfo": {
          "status": "ok",
          "timestamp": 1704353354695,
          "user_tz": -120,
          "elapsed": 643,
          "user": {
            "displayName": "",
            "userId": ""
          }
        },
        "outputId": "ebe50727-82c1-48e0-a07e-03cebaf5c3c6"
      },
      "id": "wPasfm9dBinT",
      "execution_count": 28,
      "outputs": [
        {
          "output_type": "stream",
          "name": "stdout",
          "text": [
            "\n",
            "\n",
            "\u001b[1m> Entering new RetrievalQA chain...\u001b[0m\n",
            "\n",
            "\u001b[1m> Finished chain.\u001b[0m\n",
            " **Eligible credit risk mitigation techniques include:**\n",
            "\n",
            "- Techniques that meet the minimum requirements and eligibility criteria for the recognition of unfunded credit protection.\n",
            "- Financial collateral that qualifies as eligible financial collateral under the standardized approach for risk-based capital requirement purposes.\n"
          ]
        }
      ]
    },
    {
      "cell_type": "code",
      "source": [],
      "metadata": {
        "id": "4dSxwVgIB3Oq"
      },
      "id": "4dSxwVgIB3Oq",
      "execution_count": null,
      "outputs": []
    }
  ]
}